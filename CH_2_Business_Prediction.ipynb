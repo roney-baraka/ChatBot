{
 "cells": [
  {
   "cell_type": "code",
   "execution_count": 46,
   "metadata": {},
   "outputs": [],
   "source": [
    "import pandas as pd \n",
    "import re \n",
    "from sklearn.preprocessing import StandardScaler\n",
    "import matplotlib.pyplot as plt \n",
    "import numpy as np \n",
    "import warnings \n",
    "from sklearn.metrics import mean_squared_error as mse \n",
    "from sklearn.model_selection import train_test_split, GridSearchCV\n",
    "from sklearn.ensemble import RandomForestRegressor, GradientBoostingRegressor\n",
    "from sklearn.linear_model import LinearRegression\n",
    "from sklearn.metrics import mean_absolute_error, mean_squared_error,r2_score\n",
    "\n",
    "\n",
    "warnings.simplefilter('ignore')"
   ]
  },
  {
   "cell_type": "code",
   "execution_count": 50,
   "metadata": {},
   "outputs": [
    {
     "ename": "ParserError",
     "evalue": "Error tokenizing data. C error: Expected 2 fields in line 27, saw 3\n",
     "output_type": "error",
     "traceback": [
      "\u001b[0;31m---------------------------------------------------------------------------\u001b[0m",
      "\u001b[0;31mParserError\u001b[0m                               Traceback (most recent call last)",
      "Cell \u001b[0;32mIn[50], line 4\u001b[0m\n\u001b[1;32m      1\u001b[0m \u001b[38;5;28;01mimport\u001b[39;00m \u001b[38;5;21;01mpandas\u001b[39;00m \u001b[38;5;28;01mas\u001b[39;00m \u001b[38;5;21;01mpd\u001b[39;00m \n\u001b[1;32m      3\u001b[0m df\u001b[38;5;241m=\u001b[39mpd\u001b[38;5;241m.\u001b[39mread_excel(\u001b[38;5;124m'\u001b[39m\u001b[38;5;124mCoffee_shop_data.xlsx\u001b[39m\u001b[38;5;124m'\u001b[39m)\n\u001b[0;32m----> 4\u001b[0m population\u001b[38;5;241m=\u001b[39m\u001b[43mpd\u001b[49m\u001b[38;5;241;43m.\u001b[39;49m\u001b[43mread_csv\u001b[49m\u001b[43m(\u001b[49m\u001b[38;5;124;43m'\u001b[39;49m\u001b[38;5;124;43mpopulation.csv\u001b[39;49m\u001b[38;5;124;43m'\u001b[39;49m\u001b[43m,\u001b[49m\u001b[43m \u001b[49m\u001b[43mskiprows\u001b[49m\u001b[38;5;241;43m=\u001b[39;49m\u001b[43m[\u001b[49m\u001b[38;5;241;43m0\u001b[39;49m\u001b[43m]\u001b[49m\u001b[43m)\u001b[49m\n",
      "File \u001b[0;32m~/Documents/ChatBot/.venv/lib/python3.12/site-packages/pandas/io/parsers/readers.py:1026\u001b[0m, in \u001b[0;36mread_csv\u001b[0;34m(filepath_or_buffer, sep, delimiter, header, names, index_col, usecols, dtype, engine, converters, true_values, false_values, skipinitialspace, skiprows, skipfooter, nrows, na_values, keep_default_na, na_filter, verbose, skip_blank_lines, parse_dates, infer_datetime_format, keep_date_col, date_parser, date_format, dayfirst, cache_dates, iterator, chunksize, compression, thousands, decimal, lineterminator, quotechar, quoting, doublequote, escapechar, comment, encoding, encoding_errors, dialect, on_bad_lines, delim_whitespace, low_memory, memory_map, float_precision, storage_options, dtype_backend)\u001b[0m\n\u001b[1;32m   1013\u001b[0m kwds_defaults \u001b[38;5;241m=\u001b[39m _refine_defaults_read(\n\u001b[1;32m   1014\u001b[0m     dialect,\n\u001b[1;32m   1015\u001b[0m     delimiter,\n\u001b[0;32m   (...)\u001b[0m\n\u001b[1;32m   1022\u001b[0m     dtype_backend\u001b[38;5;241m=\u001b[39mdtype_backend,\n\u001b[1;32m   1023\u001b[0m )\n\u001b[1;32m   1024\u001b[0m kwds\u001b[38;5;241m.\u001b[39mupdate(kwds_defaults)\n\u001b[0;32m-> 1026\u001b[0m \u001b[38;5;28;01mreturn\u001b[39;00m \u001b[43m_read\u001b[49m\u001b[43m(\u001b[49m\u001b[43mfilepath_or_buffer\u001b[49m\u001b[43m,\u001b[49m\u001b[43m \u001b[49m\u001b[43mkwds\u001b[49m\u001b[43m)\u001b[49m\n",
      "File \u001b[0;32m~/Documents/ChatBot/.venv/lib/python3.12/site-packages/pandas/io/parsers/readers.py:626\u001b[0m, in \u001b[0;36m_read\u001b[0;34m(filepath_or_buffer, kwds)\u001b[0m\n\u001b[1;32m    623\u001b[0m     \u001b[38;5;28;01mreturn\u001b[39;00m parser\n\u001b[1;32m    625\u001b[0m \u001b[38;5;28;01mwith\u001b[39;00m parser:\n\u001b[0;32m--> 626\u001b[0m     \u001b[38;5;28;01mreturn\u001b[39;00m \u001b[43mparser\u001b[49m\u001b[38;5;241;43m.\u001b[39;49m\u001b[43mread\u001b[49m\u001b[43m(\u001b[49m\u001b[43mnrows\u001b[49m\u001b[43m)\u001b[49m\n",
      "File \u001b[0;32m~/Documents/ChatBot/.venv/lib/python3.12/site-packages/pandas/io/parsers/readers.py:1923\u001b[0m, in \u001b[0;36mTextFileReader.read\u001b[0;34m(self, nrows)\u001b[0m\n\u001b[1;32m   1916\u001b[0m nrows \u001b[38;5;241m=\u001b[39m validate_integer(\u001b[38;5;124m\"\u001b[39m\u001b[38;5;124mnrows\u001b[39m\u001b[38;5;124m\"\u001b[39m, nrows)\n\u001b[1;32m   1917\u001b[0m \u001b[38;5;28;01mtry\u001b[39;00m:\n\u001b[1;32m   1918\u001b[0m     \u001b[38;5;66;03m# error: \"ParserBase\" has no attribute \"read\"\u001b[39;00m\n\u001b[1;32m   1919\u001b[0m     (\n\u001b[1;32m   1920\u001b[0m         index,\n\u001b[1;32m   1921\u001b[0m         columns,\n\u001b[1;32m   1922\u001b[0m         col_dict,\n\u001b[0;32m-> 1923\u001b[0m     ) \u001b[38;5;241m=\u001b[39m \u001b[38;5;28;43mself\u001b[39;49m\u001b[38;5;241;43m.\u001b[39;49m\u001b[43m_engine\u001b[49m\u001b[38;5;241;43m.\u001b[39;49m\u001b[43mread\u001b[49m\u001b[43m(\u001b[49m\u001b[43m  \u001b[49m\u001b[38;5;66;43;03m# type: ignore[attr-defined]\u001b[39;49;00m\n\u001b[1;32m   1924\u001b[0m \u001b[43m        \u001b[49m\u001b[43mnrows\u001b[49m\n\u001b[1;32m   1925\u001b[0m \u001b[43m    \u001b[49m\u001b[43m)\u001b[49m\n\u001b[1;32m   1926\u001b[0m \u001b[38;5;28;01mexcept\u001b[39;00m \u001b[38;5;167;01mException\u001b[39;00m:\n\u001b[1;32m   1927\u001b[0m     \u001b[38;5;28mself\u001b[39m\u001b[38;5;241m.\u001b[39mclose()\n",
      "File \u001b[0;32m~/Documents/ChatBot/.venv/lib/python3.12/site-packages/pandas/io/parsers/c_parser_wrapper.py:234\u001b[0m, in \u001b[0;36mCParserWrapper.read\u001b[0;34m(self, nrows)\u001b[0m\n\u001b[1;32m    232\u001b[0m \u001b[38;5;28;01mtry\u001b[39;00m:\n\u001b[1;32m    233\u001b[0m     \u001b[38;5;28;01mif\u001b[39;00m \u001b[38;5;28mself\u001b[39m\u001b[38;5;241m.\u001b[39mlow_memory:\n\u001b[0;32m--> 234\u001b[0m         chunks \u001b[38;5;241m=\u001b[39m \u001b[38;5;28;43mself\u001b[39;49m\u001b[38;5;241;43m.\u001b[39;49m\u001b[43m_reader\u001b[49m\u001b[38;5;241;43m.\u001b[39;49m\u001b[43mread_low_memory\u001b[49m\u001b[43m(\u001b[49m\u001b[43mnrows\u001b[49m\u001b[43m)\u001b[49m\n\u001b[1;32m    235\u001b[0m         \u001b[38;5;66;03m# destructive to chunks\u001b[39;00m\n\u001b[1;32m    236\u001b[0m         data \u001b[38;5;241m=\u001b[39m _concatenate_chunks(chunks)\n",
      "File \u001b[0;32mparsers.pyx:838\u001b[0m, in \u001b[0;36mpandas._libs.parsers.TextReader.read_low_memory\u001b[0;34m()\u001b[0m\n",
      "File \u001b[0;32mparsers.pyx:905\u001b[0m, in \u001b[0;36mpandas._libs.parsers.TextReader._read_rows\u001b[0;34m()\u001b[0m\n",
      "File \u001b[0;32mparsers.pyx:874\u001b[0m, in \u001b[0;36mpandas._libs.parsers.TextReader._tokenize_rows\u001b[0;34m()\u001b[0m\n",
      "File \u001b[0;32mparsers.pyx:891\u001b[0m, in \u001b[0;36mpandas._libs.parsers.TextReader._check_tokenize_status\u001b[0;34m()\u001b[0m\n",
      "File \u001b[0;32mparsers.pyx:2061\u001b[0m, in \u001b[0;36mpandas._libs.parsers.raise_parser_error\u001b[0;34m()\u001b[0m\n",
      "\u001b[0;31mParserError\u001b[0m: Error tokenizing data. C error: Expected 2 fields in line 27, saw 3\n"
     ]
    }
   ],
   "source": [
    "import pandas as pd \n",
    "\n",
    "df=pd.read_excel('Coffee_shop_data.xlsx')\n",
    "population=pd.read_csv('population.csv', skiprows=[0])"
   ]
  },
  {
   "cell_type": "code",
   "execution_count": 48,
   "metadata": {},
   "outputs": [
    {
     "data": {
      "text/html": [
       "<div>\n",
       "<style scoped>\n",
       "    .dataframe tbody tr th:only-of-type {\n",
       "        vertical-align: middle;\n",
       "    }\n",
       "\n",
       "    .dataframe tbody tr th {\n",
       "        vertical-align: top;\n",
       "    }\n",
       "\n",
       "    .dataframe thead th {\n",
       "        text-align: right;\n",
       "    }\n",
       "</style>\n",
       "<table border=\"1\" class=\"dataframe\">\n",
       "  <thead>\n",
       "    <tr style=\"text-align: right;\">\n",
       "      <th></th>\n",
       "      <th>1</th>\n",
       "      <th>Brew Haven</th>\n",
       "      <th>8 Old Shore Place</th>\n",
       "      <th>Oakland</th>\n",
       "      <th>California</th>\n",
       "      <th>Zip Code</th>\n",
       "      <th>415-810-4769</th>\n",
       "      <th>4.50</th>\n",
       "      <th>Male</th>\n",
       "      <th>$72,463</th>\n",
       "      <th>$3.31</th>\n",
       "      <th>CoffeeShopCount</th>\n",
       "    </tr>\n",
       "  </thead>\n",
       "  <tbody>\n",
       "    <tr>\n",
       "      <th>0</th>\n",
       "      <td>2</td>\n",
       "      <td>Bean Bliss</td>\n",
       "      <td>6650 Clarendon Crossing</td>\n",
       "      <td>Stockton</td>\n",
       "      <td>California</td>\n",
       "      <td>95210</td>\n",
       "      <td>209-701-1665</td>\n",
       "      <td>5.0</td>\n",
       "      <td>Female</td>\n",
       "      <td>$87,117</td>\n",
       "      <td>$5.35</td>\n",
       "      <td>4</td>\n",
       "    </tr>\n",
       "    <tr>\n",
       "      <th>1</th>\n",
       "      <td>3</td>\n",
       "      <td>Caffeine Cove</td>\n",
       "      <td>7281 Buell Road</td>\n",
       "      <td>Fresno</td>\n",
       "      <td>California</td>\n",
       "      <td>93773</td>\n",
       "      <td>559-137-3554</td>\n",
       "      <td>4.7</td>\n",
       "      <td>Male</td>\n",
       "      <td>$86,394</td>\n",
       "      <td>$4.15</td>\n",
       "      <td>4</td>\n",
       "    </tr>\n",
       "    <tr>\n",
       "      <th>2</th>\n",
       "      <td>4</td>\n",
       "      <td>Mug Magic</td>\n",
       "      <td>670 Jackson Avenue</td>\n",
       "      <td>Torrance</td>\n",
       "      <td>California</td>\n",
       "      <td>90510</td>\n",
       "      <td>818-789-5573</td>\n",
       "      <td>4.3</td>\n",
       "      <td>Male</td>\n",
       "      <td>$88,343</td>\n",
       "      <td>$5.34</td>\n",
       "      <td>7</td>\n",
       "    </tr>\n",
       "    <tr>\n",
       "      <th>3</th>\n",
       "      <td>5</td>\n",
       "      <td>Daily Grind</td>\n",
       "      <td>37 Ludington Terrace</td>\n",
       "      <td>San Diego</td>\n",
       "      <td>California</td>\n",
       "      <td>92196</td>\n",
       "      <td>619-354-2389</td>\n",
       "      <td>1.6</td>\n",
       "      <td>Male</td>\n",
       "      <td>$77,795</td>\n",
       "      <td>$4.51</td>\n",
       "      <td>9</td>\n",
       "    </tr>\n",
       "    <tr>\n",
       "      <th>4</th>\n",
       "      <td>6</td>\n",
       "      <td>Espresso Elegance</td>\n",
       "      <td>8427 Atwood Road</td>\n",
       "      <td>Visalia</td>\n",
       "      <td>California</td>\n",
       "      <td>93291</td>\n",
       "      <td>559-929-4731</td>\n",
       "      <td>1.2</td>\n",
       "      <td>Female</td>\n",
       "      <td>$78,753</td>\n",
       "      <td>$5.32</td>\n",
       "      <td>7</td>\n",
       "    </tr>\n",
       "  </tbody>\n",
       "</table>\n",
       "</div>"
      ],
      "text/plain": [
       "   1          Brew Haven        8 Old Shore Place    Oakland  California  \\\n",
       "0  2          Bean Bliss  6650 Clarendon Crossing   Stockton  California   \n",
       "1  3       Caffeine Cove          7281 Buell Road     Fresno  California   \n",
       "2  4           Mug Magic       670 Jackson Avenue   Torrance  California   \n",
       "3  5         Daily Grind     37 Ludington Terrace  San Diego  California   \n",
       "4  6   Espresso Elegance         8427 Atwood Road    Visalia  California   \n",
       "\n",
       "  Zip Code  415-810-4769  4.50    Male   $72,463   $3.31  CoffeeShopCount  \n",
       "0    95210  209-701-1665   5.0  Female   $87,117   $5.35                4  \n",
       "1    93773  559-137-3554   4.7    Male   $86,394   $4.15                4  \n",
       "2    90510  818-789-5573   4.3    Male   $88,343   $5.34                7  \n",
       "3    92196  619-354-2389   1.6    Male   $77,795   $4.51                9  \n",
       "4    93291  559-929-4731   1.2  Female   $78,753   $5.32                7  "
      ]
     },
     "execution_count": 48,
     "metadata": {},
     "output_type": "execute_result"
    }
   ],
   "source": [
    "population.head() #Checking first five rows"
   ]
  },
  {
   "cell_type": "code",
   "execution_count": 49,
   "metadata": {},
   "outputs": [
    {
     "name": "stdout",
     "output_type": "stream",
     "text": [
      "   ID no.   Business Name           Street address       City       State  \\\n",
      "0       1      Brew Haven        8 Old Shore Place    Oakland  California   \n",
      "1       2      Bean Bliss  6650 Clarendon Crossing   Stockton  California   \n",
      "2       3   Caffeine Cove          7281 Buell Road     Fresno  California   \n",
      "3       4       Mug Magic       670 Jackson Avenue   Torrance  California   \n",
      "4       5     Daily Grind     37 Ludington Terrace  San Diego  California   \n",
      "\n",
      "   Zip Code         Phone  Rating Gender majority  Median Salary  Latte Price  \n",
      "0     94616  415-810-4769     4.5            Male        $72,463        $3.31  \n",
      "1     95210  209-701-1665     5.0          Female        $87,117        $5.35  \n",
      "2     93773  559-137-3554     4.7            Male        $86,394        $4.15  \n",
      "3     90510  818-789-5573     4.3            Male        $88,343        $5.34  \n",
      "4     92196  619-354-2389     1.6            Male        $77,795        $4.51  \n"
     ]
    }
   ],
   "source": [
    "population = pd.read_csv('population.csv' ,sep='\\t')\n",
    "print (population.head())"
   ]
  },
  {
   "cell_type": "code",
   "execution_count": 51,
   "metadata": {},
   "outputs": [],
   "source": [
    "import pandas as pd\n",
    "\n",
    "# Define column names\n",
    "columns = [\n",
    "    \"ID\", \"Business Name\", \"Address\", \"City\", \"State\", \n",
    "    \"ZIP Code\", \"Phone\", \"Rating\", \"Gender\", \"Income\", \"Price\"\n",
    "]\n",
    "\n",
    "# Load the CSV file\n",
    "df = pd.read_csv('population.csv', sep='\\t', header=None, names=columns)\n"
   ]
  },
  {
   "cell_type": "code",
   "execution_count": 52,
   "metadata": {},
   "outputs": [
    {
     "data": {
      "text/html": [
       "<div>\n",
       "<style scoped>\n",
       "    .dataframe tbody tr th:only-of-type {\n",
       "        vertical-align: middle;\n",
       "    }\n",
       "\n",
       "    .dataframe tbody tr th {\n",
       "        vertical-align: top;\n",
       "    }\n",
       "\n",
       "    .dataframe thead th {\n",
       "        text-align: right;\n",
       "    }\n",
       "</style>\n",
       "<table border=\"1\" class=\"dataframe\">\n",
       "  <thead>\n",
       "    <tr style=\"text-align: right;\">\n",
       "      <th></th>\n",
       "      <th>ID</th>\n",
       "      <th>Business Name</th>\n",
       "      <th>Address</th>\n",
       "      <th>City</th>\n",
       "      <th>State</th>\n",
       "      <th>ZIP Code</th>\n",
       "      <th>Phone</th>\n",
       "      <th>Rating</th>\n",
       "      <th>Gender</th>\n",
       "      <th>Income</th>\n",
       "      <th>Price</th>\n",
       "    </tr>\n",
       "  </thead>\n",
       "  <tbody>\n",
       "    <tr>\n",
       "      <th>0</th>\n",
       "      <td>ID no.</td>\n",
       "      <td>Business Name</td>\n",
       "      <td>Street address</td>\n",
       "      <td>City</td>\n",
       "      <td>State</td>\n",
       "      <td>Zip Code</td>\n",
       "      <td>Phone</td>\n",
       "      <td>Rating</td>\n",
       "      <td>Gender majority</td>\n",
       "      <td>Median Salary</td>\n",
       "      <td>Latte Price</td>\n",
       "    </tr>\n",
       "    <tr>\n",
       "      <th>1</th>\n",
       "      <td>1</td>\n",
       "      <td>Brew Haven</td>\n",
       "      <td>8 Old Shore Place</td>\n",
       "      <td>Oakland</td>\n",
       "      <td>California</td>\n",
       "      <td>94616</td>\n",
       "      <td>415-810-4769</td>\n",
       "      <td>4.50</td>\n",
       "      <td>Male</td>\n",
       "      <td>$72,463</td>\n",
       "      <td>$3.31</td>\n",
       "    </tr>\n",
       "    <tr>\n",
       "      <th>2</th>\n",
       "      <td>2</td>\n",
       "      <td>Bean Bliss</td>\n",
       "      <td>6650 Clarendon Crossing</td>\n",
       "      <td>Stockton</td>\n",
       "      <td>California</td>\n",
       "      <td>95210</td>\n",
       "      <td>209-701-1665</td>\n",
       "      <td>5.00</td>\n",
       "      <td>Female</td>\n",
       "      <td>$87,117</td>\n",
       "      <td>$5.35</td>\n",
       "    </tr>\n",
       "    <tr>\n",
       "      <th>3</th>\n",
       "      <td>3</td>\n",
       "      <td>Caffeine Cove</td>\n",
       "      <td>7281 Buell Road</td>\n",
       "      <td>Fresno</td>\n",
       "      <td>California</td>\n",
       "      <td>93773</td>\n",
       "      <td>559-137-3554</td>\n",
       "      <td>4.70</td>\n",
       "      <td>Male</td>\n",
       "      <td>$86,394</td>\n",
       "      <td>$4.15</td>\n",
       "    </tr>\n",
       "    <tr>\n",
       "      <th>4</th>\n",
       "      <td>4</td>\n",
       "      <td>Mug Magic</td>\n",
       "      <td>670 Jackson Avenue</td>\n",
       "      <td>Torrance</td>\n",
       "      <td>California</td>\n",
       "      <td>90510</td>\n",
       "      <td>818-789-5573</td>\n",
       "      <td>4.30</td>\n",
       "      <td>Male</td>\n",
       "      <td>$88,343</td>\n",
       "      <td>$5.34</td>\n",
       "    </tr>\n",
       "  </tbody>\n",
       "</table>\n",
       "</div>"
      ],
      "text/plain": [
       "       ID   Business Name                  Address      City       State  \\\n",
       "0  ID no.   Business Name           Street address      City       State   \n",
       "1       1      Brew Haven        8 Old Shore Place   Oakland  California   \n",
       "2       2      Bean Bliss  6650 Clarendon Crossing  Stockton  California   \n",
       "3       3   Caffeine Cove          7281 Buell Road    Fresno  California   \n",
       "4       4       Mug Magic       670 Jackson Avenue  Torrance  California   \n",
       "\n",
       "   ZIP Code         Phone  Rating           Gender           Income  \\\n",
       "0  Zip Code         Phone  Rating  Gender majority   Median Salary    \n",
       "1     94616  415-810-4769    4.50             Male         $72,463    \n",
       "2     95210  209-701-1665    5.00           Female         $87,117    \n",
       "3     93773  559-137-3554    4.70             Male         $86,394    \n",
       "4     90510  818-789-5573    4.30             Male         $88,343    \n",
       "\n",
       "         Price  \n",
       "0  Latte Price  \n",
       "1        $3.31  \n",
       "2        $5.35  \n",
       "3        $4.15  \n",
       "4        $5.34  "
      ]
     },
     "execution_count": 52,
     "metadata": {},
     "output_type": "execute_result"
    }
   ],
   "source": [
    "df.head()#Checking first five rows "
   ]
  },
  {
   "cell_type": "code",
   "execution_count": 53,
   "metadata": {},
   "outputs": [
    {
     "name": "stdout",
     "output_type": "stream",
     "text": [
      "<class 'pandas.core.frame.DataFrame'>\n",
      "RangeIndex: 1001 entries, 0 to 1000\n",
      "Data columns (total 11 columns):\n",
      " #   Column         Non-Null Count  Dtype \n",
      "---  ------         --------------  ----- \n",
      " 0   ID             1001 non-null   object\n",
      " 1   Business Name  1001 non-null   object\n",
      " 2   Address        1001 non-null   object\n",
      " 3   City           1001 non-null   object\n",
      " 4   State          1001 non-null   object\n",
      " 5   ZIP Code       1001 non-null   object\n",
      " 6   Phone          1001 non-null   object\n",
      " 7   Rating         1001 non-null   object\n",
      " 8   Gender         1001 non-null   object\n",
      " 9   Income         1001 non-null   object\n",
      " 10  Price          1001 non-null   object\n",
      "dtypes: object(11)\n",
      "memory usage: 86.2+ KB\n"
     ]
    }
   ],
   "source": [
    "df.info() #Checking for data "
   ]
  },
  {
   "cell_type": "code",
   "execution_count": 54,
   "metadata": {},
   "outputs": [
    {
     "data": {
      "text/plain": [
       "(1001, 11)"
      ]
     },
     "execution_count": 54,
     "metadata": {},
     "output_type": "execute_result"
    }
   ],
   "source": [
    "import pandas as pd \n",
    "df.shape #Check the number of records and features "
   ]
  },
  {
   "cell_type": "code",
   "execution_count": 55,
   "metadata": {},
   "outputs": [
    {
     "data": {
      "text/plain": [
       "(1000, 11)"
      ]
     },
     "execution_count": 55,
     "metadata": {},
     "output_type": "execute_result"
    }
   ],
   "source": [
    "population.shape"
   ]
  },
  {
   "cell_type": "code",
   "execution_count": 56,
   "metadata": {},
   "outputs": [
    {
     "data": {
      "text/plain": [
       "<bound method NDFrame.describe of           ID        Business Name                  Address            City  \\\n",
       "0     ID no.        Business Name           Street address            City   \n",
       "1          1           Brew Haven        8 Old Shore Place         Oakland   \n",
       "2          2           Bean Bliss  6650 Clarendon Crossing        Stockton   \n",
       "3          3        Caffeine Cove          7281 Buell Road          Fresno   \n",
       "4          4            Mug Magic       670 Jackson Avenue        Torrance   \n",
       "...      ...                  ...                      ...             ...   \n",
       "996      996        Sip & Stories       7 Mockingbird Park  San Bernardino   \n",
       "997      997        Perk Paradise            8 Cody Street         Burbank   \n",
       "998      998   Urban Brewtropolis        141 Burrows Place     Los Angeles   \n",
       "999      999       Steamy Moments  42004 Bellgrove Terrace          Orange   \n",
       "1000    1000   Caffeine Communion       783 Gateway Center        Pasadena   \n",
       "\n",
       "           State  ZIP Code         Phone  Rating           Gender  \\\n",
       "0          State  Zip Code         Phone  Rating  Gender majority   \n",
       "1     California     94616  415-810-4769    4.50             Male   \n",
       "2     California     95210  209-701-1665    5.00           Female   \n",
       "3     California     93773  559-137-3554    4.70             Male   \n",
       "4     California     90510  818-789-5573    4.30             Male   \n",
       "...          ...       ...           ...     ...              ...   \n",
       "996   California     92424  909-425-9949    1.78             Male   \n",
       "997   California     91520  818-845-1356    4.50             Male   \n",
       "998   California     90035  323-785-4094    3.00             Male   \n",
       "999   California     92867  714-506-9394    4.50             Male   \n",
       "1000  California     91131  626-443-4268    4.19           Female   \n",
       "\n",
       "               Income        Price  \n",
       "0      Median Salary   Latte Price  \n",
       "1            $72,463         $3.31  \n",
       "2            $87,117         $5.35  \n",
       "3            $86,394         $4.15  \n",
       "4            $88,343         $5.34  \n",
       "...               ...          ...  \n",
       "996          $82,834         $6.48  \n",
       "997          $80,753         $3.65  \n",
       "998          $87,604         $4.64  \n",
       "999          $74,340         $3.82  \n",
       "1000         $81,178         $3.09  \n",
       "\n",
       "[1001 rows x 11 columns]>"
      ]
     },
     "execution_count": 56,
     "metadata": {},
     "output_type": "execute_result"
    }
   ],
   "source": [
    "df.describe"
   ]
  },
  {
   "cell_type": "code",
   "execution_count": 57,
   "metadata": {},
   "outputs": [
    {
     "data": {
      "image/png": "[encoded data removed]",
      "text/plain": [
       "<Figure size 640x480 with 1 Axes>"
      ]
     },
     "metadata": {},
     "output_type": "display_data"
    }
   ],
   "source": [
    "import matplotlib.pyplot as plt \n",
    "ax=df['City'].value_counts().head(5).plot(kind='bar')\n",
    "ax.set_title('Top 5 cities with most coffee shops')\n",
    "plt.show()"
   ]
  },
  {
   "cell_type": "code",
   "execution_count": 58,
   "metadata": {},
   "outputs": [
    {
     "data": {
      "image/png": "[encoded data removed]",
      "text/plain": [
       "<Figure size 640x480 with 1 Axes>"
      ]
     },
     "metadata": {},
     "output_type": "display_data"
    }
   ],
   "source": [
    "import matplotlib.pyplot as plt \n",
    "ax=df['Business Name'].value_counts().head(10).plot(kind ='bar')\n",
    "ax.set_title('Top 10 most famous brands')\n",
    "plt.show()"
   ]
  },
  {
   "cell_type": "code",
   "execution_count": 59,
   "metadata": {},
   "outputs": [
    {
     "data": {
      "text/plain": [
       "ID               0\n",
       "Business Name    0\n",
       "Address          0\n",
       "City             0\n",
       "State            0\n",
       "ZIP Code         0\n",
       "Phone            0\n",
       "Rating           0\n",
       "Gender           0\n",
       "Income           0\n",
       "Price            0\n",
       "dtype: int64"
      ]
     },
     "execution_count": 59,
     "metadata": {},
     "output_type": "execute_result"
    }
   ],
   "source": [
    "\n",
    "df.isna().sum()"
   ]
  },
  {
   "cell_type": "code",
   "execution_count": 60,
   "metadata": {},
   "outputs": [
    {
     "name": "stdout",
     "output_type": "stream",
     "text": [
      "Index(['ID', 'Business Name', 'Address', 'City', 'State', 'ZIP Code', 'Phone',\n",
      "       'Rating', 'Gender', 'Income', 'Price'],\n",
      "      dtype='object')\n"
     ]
    }
   ],
   "source": [
    "print(df.columns)"
   ]
  },
  {
   "cell_type": "code",
   "execution_count": 61,
   "metadata": {},
   "outputs": [],
   "source": [
    "#Converting zipcode to object data (str) in order to join the zip code with the population data\n",
    "df['ZIP Code']=df['ZIP Code'].astype(str)"
   ]
  },
  {
   "cell_type": "code",
   "execution_count": 62,
   "metadata": {},
   "outputs": [],
   "source": [
    "#Extract zip code from population\n",
    "#Getting the last 5digits from the population zip code.Creating a new column called zip code\n",
    "def find_zip_code(geocode):\n",
    "    pattern = r'\\d{5}$'\n",
    "\n",
    "    match = re.search(pattern, geocode)\n",
    "\n",
    "    if match: \n",
    "        zip_code = match.group(0)\n",
    "    return zip_code"
   ]
  },
  {
   "cell_type": "code",
   "execution_count": 63,
   "metadata": {},
   "outputs": [
    {
     "name": "stdout",
     "output_type": "stream",
     "text": [
      "  Geography ZIP Code\n",
      "0  Zip Code     None\n",
      "1     94616    94616\n",
      "2     95210    95210\n",
      "3     93773    93773\n",
      "4     90510    90510\n"
     ]
    }
   ],
   "source": [
    "import pandas as pd\n",
    "import re\n",
    "\n",
    "# Define column names\n",
    "columns = [\n",
    "    \"ID\", \"Business Name\", \"Address\", \"City\", \"State\", \n",
    "    \"Geography\", \"Phone\", \"Rating\", \"Gender\", \"Income\", \"Price\"\n",
    "]\n",
    "\n",
    "# Load the population data\n",
    "population = pd.read_csv('population.csv', sep='\\t', names=columns, header=None)\n",
    "\n",
    "# Define the ZIP code extraction function\n",
    "def find_zip_code(geography):\n",
    "    match = re.search(r'\\b\\d{5}(?:-\\d{4})?\\b', str(geography))\n",
    "    return match.group(0) if match else None\n",
    "\n",
    "# Extract ZIP codes and add a new column\n",
    "population['ZIP Code'] = population['Geography'].apply(find_zip_code)\n",
    "\n",
    "# Check the updated DataFrame\n",
    "print(population[['Geography', 'ZIP Code']].head())\n"
   ]
  },
  {
   "cell_type": "code",
   "execution_count": 65,
   "metadata": {},
   "outputs": [],
   "source": [
    "# The actual conversation is below. The above is the function \n",
    "import re  # Import the regular expressions module\n",
    "\n",
    "population = pd.read_csv('population.csv', sep='\\t', names=columns, header=None)\n",
    "\n",
    "\n",
    "def find_zip_code(geocode):\n",
    "    # Example regex pattern for a US ZIP code\n",
    "    pattern = r'\\b\\d{5}(?:-\\d{4})?\\b'\n",
    "    match = re.search(pattern, geocode)\n",
    "    if match: \n",
    "        return match.group(0)  # Return the matched ZIP code\n",
    "    return None  # Return None if no match is found\n",
    "\n",
    "# Example usage:\n",
    "population['Zip Code'] = population['Address'].apply(find_zip_code)\n"
   ]
  },
  {
   "cell_type": "code",
   "execution_count": 69,
   "metadata": {},
   "outputs": [
    {
     "name": "stdout",
     "output_type": "stream",
     "text": [
      "  ZIP Code Business Name  Price  Population  Median Salary\n",
      "0    94616        Cafe A    3.5       50000          72000\n",
      "1    95210        Cafe B    4.0       45000          68000\n",
      "2    93773        Cafe C    4.5       30000          65000\n"
     ]
    }
   ],
   "source": [
    "import pandas as pd\n",
    "\n",
    "# Example cafe_data DataFrame\n",
    "cafe_data = pd.DataFrame({\n",
    "    'ZIP Code': ['94616', '95210', '93773'],\n",
    "    'Business Name': ['Cafe A', 'Cafe B', 'Cafe C'],\n",
    "    'Price': [3.5, 4.0, 4.5]\n",
    "})\n",
    "\n",
    "# Example population DataFrame\n",
    "population = pd.DataFrame({\n",
    "    'ZIP Code': ['94616', '95210', '93773'],\n",
    "    'Population': [50000, 45000, 30000],\n",
    "    'Median Salary': [72000, 68000, 65000]\n",
    "})\n",
    "\n",
    "# Ensure 'ZIP Code' is a string in both DataFrames\n",
    "cafe_data['ZIP Code'] = cafe_data['ZIP Code'].astype(str)\n",
    "population['ZIP Code'] = population['ZIP Code'].astype(str)\n",
    "\n",
    "# Perform the merge\n",
    "df = pd.merge(cafe_data, population, on='ZIP Code')\n",
    "\n",
    "# Check the merged DataFrame\n",
    "print(df)\n",
    "\n"
   ]
  },
  {
   "cell_type": "code",
   "execution_count": 71,
   "metadata": {},
   "outputs": [
    {
     "name": "stdout",
     "output_type": "stream",
     "text": [
      "Index(['ZIP Code', 'Business Name', 'Price', 'Population', 'Median Salary'], dtype='object')\n"
     ]
    }
   ],
   "source": [
    "print(df.columns)\n"
   ]
  },
  {
   "cell_type": "code",
   "execution_count": 72,
   "metadata": {},
   "outputs": [
    {
     "name": "stdout",
     "output_type": "stream",
     "text": [
      "Index(['ZIP Code', 'Business Name', 'Price'], dtype='object')\n"
     ]
    }
   ],
   "source": [
    "print(cafe_data.columns)\n"
   ]
  },
  {
   "cell_type": "code",
   "execution_count": 73,
   "metadata": {},
   "outputs": [],
   "source": [
    "columns = cafe_data.columns.values.tolist() + ['Population']  # Use the correct column name\n",
    "df = df[columns]\n"
   ]
  },
  {
   "cell_type": "code",
   "execution_count": 74,
   "metadata": {},
   "outputs": [
    {
     "name": "stdout",
     "output_type": "stream",
     "text": [
      "Index(['ZIP Code', 'Business Name', 'Price'], dtype='object')\n",
      "Index(['ZIP Code', 'Business Name', 'Price', 'Population'], dtype='object')\n"
     ]
    }
   ],
   "source": [
    "# Verify the column names\n",
    "print(cafe_data.columns)\n",
    "print(df.columns)\n",
    "\n",
    "# Adjust columns list based on available columns\n",
    "columns = cafe_data.columns.values.tolist() + ['Population']  # Replace 'Total' with 'Population'\n",
    "df = df[columns]\n",
    "\n",
    "# Rename the 'Population' column if needed\n",
    "df = df.rename(columns={\"Population\": \"Total Population\"})  # Optional renaming\n"
   ]
  },
  {
   "cell_type": "code",
   "execution_count": 76,
   "metadata": {},
   "outputs": [
    {
     "name": "stdout",
     "output_type": "stream",
     "text": [
      "Columns to select: ['ZIP Code', 'Business Name', 'Price', 'Total']\n"
     ]
    }
   ],
   "source": [
    "columns = cafe_data.columns.values.tolist() + ['Total']\n",
    "print(\"Columns to select:\", columns)\n"
   ]
  },
  {
   "cell_type": "code",
   "execution_count": 77,
   "metadata": {},
   "outputs": [
    {
     "data": {
      "text/html": [
       "<div>\n",
       "<style scoped>\n",
       "    .dataframe tbody tr th:only-of-type {\n",
       "        vertical-align: middle;\n",
       "    }\n",
       "\n",
       "    .dataframe tbody tr th {\n",
       "        vertical-align: top;\n",
       "    }\n",
       "\n",
       "    .dataframe thead th {\n",
       "        text-align: right;\n",
       "    }\n",
       "</style>\n",
       "<table border=\"1\" class=\"dataframe\">\n",
       "  <thead>\n",
       "    <tr style=\"text-align: right;\">\n",
       "      <th></th>\n",
       "      <th>ZIP Code</th>\n",
       "      <th>Business Name</th>\n",
       "      <th>Price</th>\n",
       "      <th>Total Population</th>\n",
       "    </tr>\n",
       "  </thead>\n",
       "  <tbody>\n",
       "    <tr>\n",
       "      <th>0</th>\n",
       "      <td>94616</td>\n",
       "      <td>Cafe A</td>\n",
       "      <td>3.5</td>\n",
       "      <td>50000</td>\n",
       "    </tr>\n",
       "    <tr>\n",
       "      <th>1</th>\n",
       "      <td>95210</td>\n",
       "      <td>Cafe B</td>\n",
       "      <td>4.0</td>\n",
       "      <td>45000</td>\n",
       "    </tr>\n",
       "    <tr>\n",
       "      <th>2</th>\n",
       "      <td>93773</td>\n",
       "      <td>Cafe C</td>\n",
       "      <td>4.5</td>\n",
       "      <td>30000</td>\n",
       "    </tr>\n",
       "  </tbody>\n",
       "</table>\n",
       "</div>"
      ],
      "text/plain": [
       "  ZIP Code Business Name  Price  Total Population\n",
       "0    94616        Cafe A    3.5             50000\n",
       "1    95210        Cafe B    4.0             45000\n",
       "2    93773        Cafe C    4.5             30000"
      ]
     },
     "execution_count": 77,
     "metadata": {},
     "output_type": "execute_result"
    }
   ],
   "source": [
    "df"
   ]
  },
  {
   "cell_type": "code",
   "execution_count": 78,
   "metadata": {},
   "outputs": [
    {
     "data": {
      "text/plain": [
       "(3, 5)"
      ]
     },
     "execution_count": 78,
     "metadata": {},
     "output_type": "execute_result"
    }
   ],
   "source": [
    "# Add missing columns with placeholder values\n",
    "missing_columns = ['Zip Code', 'Rating', 'Median Salary', 'Latte Price', 'Population']\n",
    "for col in missing_columns:\n",
    "    if col not in df.columns:\n",
    "        df[col] = None  # or a default value like 0\n",
    "\n",
    "# Keep only the relevant columns\n",
    "df = df[['Zip Code', 'Rating', 'Median Salary', 'Latte Price', 'Population']]\n",
    "df.shape\n"
   ]
  },
  {
   "cell_type": "code",
   "execution_count": 79,
   "metadata": {},
   "outputs": [
    {
     "name": "stdout",
     "output_type": "stream",
     "text": [
      "Index(['Zip Code', 'Rating', 'Median Salary', 'Latte Price', 'Population'], dtype='object')\n"
     ]
    }
   ],
   "source": [
    "print(df.columns)\n"
   ]
  },
  {
   "cell_type": "code",
   "execution_count": 80,
   "metadata": {},
   "outputs": [
    {
     "data": {
      "text/plain": [
       "(3, 5)"
      ]
     },
     "execution_count": 80,
     "metadata": {},
     "output_type": "execute_result"
    }
   ],
   "source": [
    "#Keeping only relevant pictures \n",
    "df = df[['Zip Code', 'Rating','Median Salary', 'Latte Price','Population']]\n",
    "df.shape"
   ]
  },
  {
   "cell_type": "code",
   "execution_count": 81,
   "metadata": {},
   "outputs": [
    {
     "data": {
      "text/plain": [
       "Index(['Zip Code', 'Rating', 'Median Salary', 'Latte Price', 'Population'], dtype='object')"
      ]
     },
     "execution_count": 81,
     "metadata": {},
     "output_type": "execute_result"
    }
   ],
   "source": [
    "df.columns"
   ]
  },
  {
   "cell_type": "code",
   "execution_count": 82,
   "metadata": {},
   "outputs": [
    {
     "name": "stdout",
     "output_type": "stream",
     "text": [
      "Index(['Zip Code', 'Rating', 'Median Salary', 'Latte Price', 'Population'], dtype='object')\n"
     ]
    }
   ],
   "source": [
    "print(df.columns)\n"
   ]
  },
  {
   "cell_type": "code",
   "execution_count": 84,
   "metadata": {},
   "outputs": [],
   "source": [
    "# Drop 'CoffeeShopCount_y' if it exists\n",
    "if 'CoffeeShopCount_y' in df.columns:\n",
    "    df = df.drop(columns=['CoffeeShopCount_y'])\n"
   ]
  },
  {
   "cell_type": "code",
   "execution_count": 85,
   "metadata": {},
   "outputs": [],
   "source": [
    "# Rename 'CoffeeShopCount_x' to 'CoffeeShopCount' if it exists\n",
    "if 'CoffeeShopCount_x' in df.columns:\n",
    "    df = df.rename(columns={'CoffeeShopCount_x': 'CoffeeShopCount'})\n"
   ]
  },
  {
   "cell_type": "code",
   "execution_count": 86,
   "metadata": {},
   "outputs": [
    {
     "name": "stdout",
     "output_type": "stream",
     "text": [
      "  Zip Code Rating Median Salary Latte Price Population\n",
      "0     None   None          None        None       None\n",
      "1     None   None          None        None       None\n",
      "2     None   None          None        None       None\n"
     ]
    }
   ],
   "source": [
    "print(df.head())\n"
   ]
  },
  {
   "cell_type": "code",
   "execution_count": 87,
   "metadata": {},
   "outputs": [
    {
     "name": "stdout",
     "output_type": "stream",
     "text": [
      "object\n",
      "object\n"
     ]
    }
   ],
   "source": [
    "print(df['Zip Code'].dtype)\n",
    "print(coffee_shop_counts['Zip Code'].dtype)\n"
   ]
  },
  {
   "cell_type": "code",
   "execution_count": 88,
   "metadata": {},
   "outputs": [],
   "source": [
    "df['Zip Code'] = df['Zip Code'].astype(str)\n",
    "coffee_shop_counts['Zip Code'] = coffee_shop_counts['Zip Code'].astype(str)\n"
   ]
  },
  {
   "cell_type": "code",
   "execution_count": 89,
   "metadata": {},
   "outputs": [
    {
     "name": "stdout",
     "output_type": "stream",
     "text": [
      "['None']\n",
      "['90040' '91131' '93750' '90505' '93111' '92410' '94250' '92867' '92013'\n",
      " '92505' '94712' '90030' '95813' '90831' '95150' '92196' '92555' '92662'\n",
      " '91117' '91411' '93721' '95123' '92822' '92056' '94132' '95113' '91913'\n",
      " '93709' '92127' '90050' '90020' '93150' '94245' '92648' '94280' '92883'\n",
      " '92424' '95405' '90510' '93291' '92835' '92165' '94291' '94257' '92132'\n",
      " '90071' '90010' '94207' '94137' '94544' '95054' '95354' '92153' '90310'\n",
      " '91199' '92844' '93794' '91616' '95133' '91797' '95064' '96154' '94622'\n",
      " '95865' '91328' '93034' '92805' '95828' '94142' '95155' '91606' '93762'\n",
      " '90840' '93715' '91406' '94064' '90810' '93726' '92415' '90005' '90398'\n",
      " '90189' '95194' '94627' '92405' '95818' '93381' '92878' '90035' '90076'\n",
      " '94302' '92862' '95219' '93591' '90094' '95298' '94110' '92121' '95128'\n",
      " '94154' '91205' '91520' '94147' '93005' '91505' '92825' '93386' '94660'\n",
      " '92145' '92640' '94522' '93740' '94164' '93094' '90847' '92186' '94230'\n",
      " '95205' '94297' '95160' '92645' '95173' '94237' '94042' '92137' '93773'\n",
      " '95210' '92725' '92170' '93778' '90045' '92710' '90087' '95833' '92619'\n",
      " '94405' '93311' '94126' '94169' '92110' '94975' '90065' '94177' '90805'\n",
      " '93305' '91125' '94913' '91210' '94273' '94605' '90015' '90605' '94705'\n",
      " '95838' '93407' '91499' '93704' '94616' '93907' '95894' '95823' '92105'\n",
      " '92812' '93106' '95973' '92513' '90081' '90610' '95138' '90405' '94159'\n",
      " '95852' '94263' '91186' '92191' '94105' '90410' '95108' '94286' '93399'\n",
      " '92030' '95397' '92717' '91841' '94116' '92668' '90305' '90060' '92612'\n",
      " '92176' '90055' '94121' '93584' '91103' '92519' '95118' '93786' '94611'\n",
      " '94807' '92160' '90025']\n"
     ]
    }
   ],
   "source": [
    "print(df['Zip Code'].unique())\n",
    "print(coffee_shop_counts['Zip Code'].unique())\n"
   ]
  },
  {
   "cell_type": "code",
   "execution_count": 90,
   "metadata": {},
   "outputs": [],
   "source": [
    "df['Zip Code'] = df['Zip Code'].str.strip()\n",
    "coffee_shop_counts['Zip Code'] = coffee_shop_counts['Zip Code'].str.strip()\n"
   ]
  },
  {
   "cell_type": "code",
   "execution_count": 91,
   "metadata": {},
   "outputs": [],
   "source": [
    "df = df.merge(coffee_shop_counts, on='Zip Code', how='left')\n"
   ]
  },
  {
   "cell_type": "code",
   "execution_count": 92,
   "metadata": {},
   "outputs": [
    {
     "name": "stdout",
     "output_type": "stream",
     "text": [
      "Index(['ID no.', 'Business Name', 'Street address', 'City', 'State',\n",
      "       'Zip Code', 'Phone', 'Rating', 'Gender majority', ' Median Salary ',\n",
      "       'Latte Price'],\n",
      "      dtype='object')\n"
     ]
    }
   ],
   "source": [
    "population = pd.read_csv('population.csv', sep='\\t')\n",
    "print(population.columns)\n"
   ]
  },
  {
   "cell_type": "code",
   "execution_count": 93,
   "metadata": {},
   "outputs": [
    {
     "name": "stdout",
     "output_type": "stream",
     "text": [
      "       ID   Business Name                  Address      City       State  \\\n",
      "0  ID no.   Business Name           Street address      City       State   \n",
      "1       1      Brew Haven        8 Old Shore Place   Oakland  California   \n",
      "2       2      Bean Bliss  6650 Clarendon Crossing  Stockton  California   \n",
      "3       3   Caffeine Cove          7281 Buell Road    Fresno  California   \n",
      "4       4       Mug Magic       670 Jackson Avenue  Torrance  California   \n",
      "\n",
      "   Zip Code         Phone  Rating           Gender           Income  \\\n",
      "0  Zip Code         Phone  Rating  Gender majority   Median Salary    \n",
      "1     94616  415-810-4769    4.50             Male         $72,463    \n",
      "2     95210  209-701-1665    5.00           Female         $87,117    \n",
      "3     93773  559-137-3554    4.70             Male         $86,394    \n",
      "4     90510  818-789-5573    4.30             Male         $88,343    \n",
      "\n",
      "         Price  \n",
      "0  Latte Price  \n",
      "1        $3.31  \n",
      "2        $5.35  \n",
      "3        $4.15  \n",
      "4        $5.34  \n"
     ]
    }
   ],
   "source": [
    "population = pd.read_csv('population.csv', sep='\\t', header=None)\n",
    "\n",
    "# Assign column names manually (replace with actual names based on your file)\n",
    "population.columns = [\n",
    "    \"ID\", \"Business Name\", \"Address\", \"City\", \"State\",\n",
    "    \"Zip Code\", \"Phone\", \"Rating\", \"Gender\", \"Income\", \"Price\"\n",
    "]\n",
    "\n",
    "print(population.head())\n"
   ]
  },
  {
   "cell_type": "code",
   "execution_count": 94,
   "metadata": {},
   "outputs": [],
   "source": [
    "population.columns = population.columns.str.strip()\n"
   ]
  },
  {
   "cell_type": "code",
   "execution_count": 95,
   "metadata": {},
   "outputs": [
    {
     "name": "stdout",
     "output_type": "stream",
     "text": [
      "Column names in population.csv: Index(['ID no.', 'Business Name', 'Street address', 'City', 'State',\n",
      "       'Zip Code', 'Phone', 'Rating', 'Gender majority', ' Median Salary ',\n",
      "       'Latte Price'],\n",
      "      dtype='object')\n",
      "   ID no.   Business Name           Street address       City       State  \\\n",
      "0       1      Brew Haven        8 Old Shore Place    Oakland  California   \n",
      "1       2      Bean Bliss  6650 Clarendon Crossing   Stockton  California   \n",
      "2       3   Caffeine Cove          7281 Buell Road     Fresno  California   \n",
      "3       4       Mug Magic       670 Jackson Avenue   Torrance  California   \n",
      "4       5     Daily Grind     37 Ludington Terrace  San Diego  California   \n",
      "\n",
      "   Zip Code         Phone  Rating Gender majority  Median Salary  Latte Price  \n",
      "0     94616  415-810-4769     4.5            Male        $72,463        $3.31  \n",
      "1     95210  209-701-1665     5.0          Female        $87,117        $5.35  \n",
      "2     93773  559-137-3554     4.7            Male        $86,394        $4.15  \n",
      "3     90510  818-789-5573     4.3            Male        $88,343        $5.34  \n",
      "4     92196  619-354-2389     1.6            Male        $77,795        $4.51  \n"
     ]
    }
   ],
   "source": [
    "import pandas as pd\n",
    "\n",
    "# Load the file with tab as the delimiter\n",
    "population = pd.read_csv('population.csv', sep='\\t')\n",
    "\n",
    "# Print the column names\n",
    "print(\"Column names in population.csv:\", population.columns)\n",
    "\n",
    "# Preview the first few rows\n",
    "print(population.head())\n"
   ]
  },
  {
   "cell_type": "code",
   "execution_count": 96,
   "metadata": {},
   "outputs": [
    {
     "name": "stdout",
     "output_type": "stream",
     "text": [
      "     ID no.        Business Name           Street address            City  \\\n",
      "0         1           Brew Haven        8 Old Shore Place         Oakland   \n",
      "1         2           Bean Bliss  6650 Clarendon Crossing        Stockton   \n",
      "2         3        Caffeine Cove          7281 Buell Road          Fresno   \n",
      "3         4            Mug Magic       670 Jackson Avenue        Torrance   \n",
      "4         5          Daily Grind     37 Ludington Terrace       San Diego   \n",
      "..      ...                  ...                      ...             ...   \n",
      "995     996        Sip & Stories       7 Mockingbird Park  San Bernardino   \n",
      "996     997        Perk Paradise            8 Cody Street         Burbank   \n",
      "997     998   Urban Brewtropolis        141 Burrows Place     Los Angeles   \n",
      "998     999       Steamy Moments  42004 Bellgrove Terrace          Orange   \n",
      "999    1000   Caffeine Communion       783 Gateway Center        Pasadena   \n",
      "\n",
      "          State Zip Code         Phone  Rating Gender majority  \\\n",
      "0    California    94616  415-810-4769    4.50            Male   \n",
      "1    California    95210  209-701-1665    5.00          Female   \n",
      "2    California    93773  559-137-3554    4.70            Male   \n",
      "3    California    90510  818-789-5573    4.30            Male   \n",
      "4    California    92196  619-354-2389    1.60            Male   \n",
      "..          ...      ...           ...     ...             ...   \n",
      "995  California    92424  909-425-9949    1.78            Male   \n",
      "996  California    91520  818-845-1356    4.50            Male   \n",
      "997  California    90035  323-785-4094    3.00            Male   \n",
      "998  California    92867  714-506-9394    4.50            Male   \n",
      "999  California    91131  626-443-4268    4.19          Female   \n",
      "\n",
      "     Median Salary  Latte Price  CoffeeShopCount  \n",
      "0          $72,463        $3.31                4  \n",
      "1          $87,117        $5.35                4  \n",
      "2          $86,394        $4.15                4  \n",
      "3          $88,343        $5.34                7  \n",
      "4          $77,795        $4.51                9  \n",
      "..              ...         ...              ...  \n",
      "995        $82,834        $6.48                7  \n",
      "996        $80,753        $3.65                5  \n",
      "997        $87,604        $4.64                5  \n",
      "998        $74,340        $3.82                9  \n",
      "999        $81,178        $3.09               10  \n",
      "\n",
      "[1000 rows x 12 columns]\n"
     ]
    }
   ],
   "source": [
    "import pandas as pd\n",
    "\n",
    "# Load the file with tab as the delimiter\n",
    "population = pd.read_csv('population.csv', sep='\\t')\n",
    "\n",
    "# Rename the ZIP code column for clarity\n",
    "population = population.rename(columns={'94616': 'Zip Code'})\n",
    "\n",
    "# Ensure 'Zip Code' is a string\n",
    "population['Zip Code'] = population['Zip Code'].astype(str)\n",
    "\n",
    "# Calculate coffee shop counts\n",
    "coffee_shop_counts = population['Zip Code'].value_counts().reset_index()\n",
    "coffee_shop_counts.columns = ['Zip Code', 'CoffeeShopCount']\n",
    "\n",
    "# Merge coffee shop counts into the population DataFrame\n",
    "population = population.merge(coffee_shop_counts, on='Zip Code', how='left')\n",
    "\n",
    "# Display the updated DataFrame\n",
    "print(population)\n"
   ]
  },
  {
   "cell_type": "code",
   "execution_count": 97,
   "metadata": {},
   "outputs": [
    {
     "name": "stdout",
     "output_type": "stream",
     "text": [
      "       ID   Business Name                  Address      City       State  \\\n",
      "0  ID no.   Business Name           Street address      City       State   \n",
      "1       1      Brew Haven        8 Old Shore Place   Oakland  California   \n",
      "2       2      Bean Bliss  6650 Clarendon Crossing  Stockton  California   \n",
      "3       3   Caffeine Cove          7281 Buell Road    Fresno  California   \n",
      "4       4       Mug Magic       670 Jackson Avenue  Torrance  California   \n",
      "\n",
      "   Zip Code         Phone  Rating           Gender  Population  Price  \n",
      "0  Zip Code         Phone     NaN  Gender majority         0.0   0.00  \n",
      "1     94616  415-810-4769     4.5             Male     72463.0   3.31  \n",
      "2     95210  209-701-1665     5.0           Female     87117.0   5.35  \n",
      "3     93773  559-137-3554     4.7             Male     86394.0   4.15  \n",
      "4     90510  818-789-5573     4.3             Male     88343.0   5.34  \n"
     ]
    }
   ],
   "source": [
    "import pandas as pd\n",
    "\n",
    "# Load the CSV file with tab as the delimiter and no headers\n",
    "population = pd.read_csv('population.csv', sep='\\t', header=None)\n",
    "\n",
    "# Assign proper column names (update based on your file structure)\n",
    "population.columns = [\n",
    "    \"ID\", \"Business Name\", \"Address\", \"City\", \"State\",\n",
    "    \"Zip Code\", \"Phone\", \"Rating\", \"Gender\", \"Population\", \"Price\"\n",
    "]\n",
    "\n",
    "# Clean 'Population' and 'Price' columns to remove non-numeric characters\n",
    "population['Population'] = (\n",
    "    population['Population']\n",
    "    .replace(r'[^\\d]', '', regex=True)  # Remove non-numeric characters\n",
    "    .replace('', '0')                  # Replace empty strings with 0\n",
    "    .astype(float)                     # Convert to float\n",
    ")\n",
    "\n",
    "population['Price'] = (\n",
    "    population['Price']\n",
    "    .replace(r'[^\\d.]', '', regex=True)  # Remove non-numeric characters\n",
    "    .replace('', '0')                   # Replace empty strings with 0\n",
    "    .astype(float)                      # Convert to float\n",
    ")\n",
    "\n",
    "# Ensure 'Rating' is numeric as well\n",
    "population['Rating'] = pd.to_numeric(population['Rating'], errors='coerce')\n",
    "\n",
    "# Verify the DataFrame\n",
    "print(population.head())\n"
   ]
  },
  {
   "cell_type": "code",
   "execution_count": 98,
   "metadata": {},
   "outputs": [
    {
     "name": "stdout",
     "output_type": "stream",
     "text": [
      "Number of columns: 11\n",
      "Index(['ID', 'Business Name', 'Address', 'City', 'State', 'Zip Code', 'Phone',\n",
      "       'Rating', 'Gender', 'Population', 'Price'],\n",
      "      dtype='object')\n"
     ]
    }
   ],
   "source": [
    "print(f\"Number of columns: {len(population.columns)}\")\n",
    "print(population.columns)\n"
   ]
  },
  {
   "cell_type": "code",
   "execution_count": 99,
   "metadata": {},
   "outputs": [
    {
     "name": "stdout",
     "output_type": "stream",
     "text": [
      "       ID   Business Name                  Address      City       State  \\\n",
      "0  ID no.   Business Name           Street address      City       State   \n",
      "1       1      Brew Haven        8 Old Shore Place   Oakland  California   \n",
      "2       2      Bean Bliss  6650 Clarendon Crossing  Stockton  California   \n",
      "3       3   Caffeine Cove          7281 Buell Road    Fresno  California   \n",
      "4       4       Mug Magic       670 Jackson Avenue  Torrance  California   \n",
      "\n",
      "   Zip Code         Phone  Rating           Gender  Population  Price  \n",
      "0  Zip Code         Phone     NaN  Gender majority         0.0   0.00  \n",
      "1     94616  415-810-4769     4.5             Male     72463.0   3.31  \n",
      "2     95210  209-701-1665     5.0           Female     87117.0   5.35  \n",
      "3     93773  559-137-3554     4.7             Male     86394.0   4.15  \n",
      "4     90510  818-789-5573     4.3             Male     88343.0   5.34  \n"
     ]
    }
   ],
   "source": [
    "print(population.head())\n"
   ]
  },
  {
   "cell_type": "code",
   "execution_count": 100,
   "metadata": {},
   "outputs": [
    {
     "name": "stdout",
     "output_type": "stream",
     "text": [
      "ID                object\n",
      "Business Name     object\n",
      "Address           object\n",
      "City              object\n",
      "State             object\n",
      "Zip Code          object\n",
      "Phone             object\n",
      "Rating           float64\n",
      "Gender            object\n",
      "Population       float64\n",
      "Price            float64\n",
      "dtype: object\n"
     ]
    }
   ],
   "source": [
    "print(population.dtypes)\n"
   ]
  },
  {
   "cell_type": "code",
   "execution_count": 101,
   "metadata": {},
   "outputs": [
    {
     "name": "stdout",
     "output_type": "stream",
     "text": [
      "Index(['ID', 'Business Name', 'Address', 'City', 'State', 'Zip Code', 'Phone',\n",
      "       'Rating', 'Gender', 'Population', 'Price'],\n",
      "      dtype='object')\n"
     ]
    }
   ],
   "source": [
    "print(population.columns)\n"
   ]
  },
  {
   "cell_type": "code",
   "execution_count": 102,
   "metadata": {},
   "outputs": [],
   "source": [
    "population = population.rename(columns={'$72,463': 'Population'})\n"
   ]
  },
  {
   "cell_type": "code",
   "execution_count": 104,
   "metadata": {},
   "outputs": [
    {
     "name": "stdout",
     "output_type": "stream",
     "text": [
      "Index(['ID', 'Business Name', 'Address', 'City', 'State', 'Zip Code', 'Phone',\n",
      "       'Rating', 'Gender', 'Population', 'Price'],\n",
      "      dtype='object')\n"
     ]
    }
   ],
   "source": [
    "print(population.columns)\n"
   ]
  },
  {
   "cell_type": "code",
   "execution_count": 105,
   "metadata": {},
   "outputs": [],
   "source": [
    "# Calculate coffee shop counts for each ZIP code\n",
    "coffee_shop_counts = population['Zip Code'].value_counts().reset_index()\n",
    "coffee_shop_counts.columns = ['Zip Code', 'CoffeeShopCount']\n",
    "\n",
    "# Merge the counts into the population DataFrame\n",
    "population = population.merge(coffee_shop_counts, on='Zip Code', how='left')\n"
   ]
  },
  {
   "cell_type": "code",
   "execution_count": 106,
   "metadata": {},
   "outputs": [
    {
     "name": "stdout",
     "output_type": "stream",
     "text": [
      "   Zip Code  Population  CoffeeShopCount\n",
      "0  Zip Code         0.0                1\n",
      "1     94616     72463.0                4\n",
      "2     95210     87117.0                4\n",
      "3     93773     86394.0                4\n",
      "4     90510     88343.0                7\n"
     ]
    }
   ],
   "source": [
    "print(population[['Zip Code', 'Population', 'CoffeeShopCount']].head())\n"
   ]
  },
  {
   "cell_type": "code",
   "execution_count": 108,
   "metadata": {},
   "outputs": [
    {
     "name": "stdout",
     "output_type": "stream",
     "text": [
      "Index(['ID no.', 'Business Name', 'Street address', 'City', 'State',\n",
      "       'Zip Code', 'Phone', 'Rating', 'Gender majority', ' Median Salary ',\n",
      "       'Latte Price', 'CoffeeShopCount'],\n",
      "      dtype='object')\n"
     ]
    }
   ],
   "source": [
    "print(population.columns)\n"
   ]
  },
  {
   "cell_type": "code",
   "execution_count": 110,
   "metadata": {},
   "outputs": [],
   "source": [
    "population.columns = population.columns.str.strip()\n"
   ]
  },
  {
   "cell_type": "code",
   "execution_count": 111,
   "metadata": {},
   "outputs": [],
   "source": [
    "population = population.rename(columns={' Median Salary ': 'Median Salary'})\n"
   ]
  },
  {
   "cell_type": "code",
   "execution_count": 112,
   "metadata": {},
   "outputs": [],
   "source": [
    "sorted_df = population.sort_values(\n",
    "    by=['Median Salary', 'CoffeeShopCount', 'Rating'],  # Adjust criteria as needed\n",
    "    ascending=[False, True, True]\n",
    ").reset_index(drop=True)\n"
   ]
  },
  {
   "cell_type": "code",
   "execution_count": 113,
   "metadata": {},
   "outputs": [
    {
     "name": "stdout",
     "output_type": "stream",
     "text": [
      "    ID no.        Business Name             Street address        City  \\\n",
      "0      552      Bean Brilliance              674 Jana Park  Sacramento   \n",
      "1      890        Frothy Fusion           7012 Ohio Street  Sacramento   \n",
      "2      339            Perk Nook       57110 Bayside Circle  Sacramento   \n",
      "3      418      Coffee Coziness             6 Jay Junction   Palo Alto   \n",
      "4      368   Urban Brewtropolis  19270 Weeping Birch Trail   Palo Alto   \n",
      "5      384       Steamy Moments              9 Ruskin Road   Palo Alto   \n",
      "6      116     Espresso Express         80 Ridge Oak Alley   Palo Alto   \n",
      "7      558       Latte Landmark         43 Myrtle Junction   Palo Alto   \n",
      "8      483       Latte Landmark               2 Green Road    Glendale   \n",
      "9       35          Brewmasters         73 Shelley Terrace    Glendale   \n",
      "10     611         Mugful Magic          1826 Badeau Trail    Glendale   \n",
      "11     737       Cup of Comfort          86 Hanson Parkway    Pasadena   \n",
      "12     644   The Roast Refinery       793 Oakridge Terrace    Pasadena   \n",
      "13     362         Cup of Charm             84 Ruskin Lane      Corona   \n",
      "14     662       Cup of Comfort            50042 Esch Lane      Corona   \n",
      "15      29      Caffeine Corner          3 Victoria Avenue      Corona   \n",
      "16      59       Heavenly Beans        52 Mccormick Circle      Corona   \n",
      "17     631    Brewed Dreamscape        3885 Thompson Alley      Corona   \n",
      "18     487        Perk Paradise         44 Ridgeview Drive      Corona   \n",
      "19     634        Java Joyhouse           6167 Shelley Way      Corona   \n",
      "\n",
      "         State Zip Code         Phone  Rating Gender majority Median Salary  \\\n",
      "0   California    95852  916-768-6723    1.82          Female      $89,978    \n",
      "1   California    95852  916-673-6884    2.06            Male      $89,978    \n",
      "2   California    95852  916-940-8644    4.15          Female      $89,978    \n",
      "3   California    94302  310-841-2272    1.47            Male      $89,954    \n",
      "4   California    94302  310-230-2544    4.50          Female      $89,954    \n",
      "5   California    94302  310-553-7461    4.51            Male      $89,954    \n",
      "6   California    94302  650-952-0705    4.54            Male      $89,954    \n",
      "7   California    94302  310-376-4075    4.93            Male      $89,954    \n",
      "8   California    91210  818-292-2897    1.59          Female      $89,948    \n",
      "9   California    91210  818-679-1839    4.30            Male      $89,948    \n",
      "10  California    91210  818-274-5869    4.96          Female      $89,948    \n",
      "11  California    91103  323-891-0124    3.04          Female      $89,781    \n",
      "12  California    91103  626-463-8536    4.73          Female      $89,781    \n",
      "13  California    92883  626-492-0927    4.03            Male      $89,655    \n",
      "14  California    92883  626-548-1943    4.03            Male      $89,655    \n",
      "15  California    92883  626-906-4250    4.20            Male      $89,655    \n",
      "16  California    92883  951-583-2316    4.20          Female      $89,655    \n",
      "17  California    92883  951-533-0274    4.72          Female      $89,655    \n",
      "18  California    92883  626-449-6356    4.82            Male      $89,655    \n",
      "19  California    92883  951-994-6311    4.96          Female      $89,655    \n",
      "\n",
      "   Latte Price  CoffeeShopCount  \n",
      "0        $5.39                3  \n",
      "1        $5.58                3  \n",
      "2        $5.70                3  \n",
      "3        $5.82                5  \n",
      "4        $5.88                5  \n",
      "5        $5.31                5  \n",
      "6        $5.12                5  \n",
      "7        $5.32                5  \n",
      "8        $5.61                3  \n",
      "9        $5.48                3  \n",
      "10       $5.16                3  \n",
      "11       $5.79                2  \n",
      "12       $5.12                2  \n",
      "13       $5.70                7  \n",
      "14       $5.77                7  \n",
      "15       $5.69                7  \n",
      "16       $5.29                7  \n",
      "17       $5.15                7  \n",
      "18       $5.78                7  \n",
      "19       $5.75                7  \n"
     ]
    }
   ],
   "source": [
    "# Select the top 5 ZIP codes\n",
    "lst = []\n",
    "for i in range(len(sorted_df)):\n",
    "    if len(lst) != 5:\n",
    "        if sorted_df['Zip Code'][i] not in lst:\n",
    "            lst.append(sorted_df['Zip Code'][i])\n",
    "\n",
    "top_5_zip_codes_df = sorted_df[sorted_df['Zip Code'].isin(lst)]\n",
    "\n",
    "# Display the top 5 ZIP codes DataFrame\n",
    "print(top_5_zip_codes_df)\n"
   ]
  },
  {
   "cell_type": "code",
   "execution_count": 118,
   "metadata": {},
   "outputs": [],
   "source": [
    "X = df.drop(['Latte Price', 'Zip Code'], axis=1) # Features excluding 'Latte Price' and Zip code \n",
    "y = df['Latte Price'] #Target Variable "
   ]
  },
  {
   "cell_type": "code",
   "execution_count": 120,
   "metadata": {},
   "outputs": [
    {
     "name": "stdout",
     "output_type": "stream",
     "text": [
      "Training features shape: (2, 4)\n",
      "Testing features shape: (1, 4)\n",
      "Training labels shape: (2,)\n",
      "Testing labels shape: (1,)\n"
     ]
    }
   ],
   "source": [
    "from sklearn.model_selection import train_test_split\n",
    "\n",
    "# Assuming X and y are properly defined DataFrames or arrays\n",
    "X_train, X_test, y_train, y_test = train_test_split(X, y, test_size=0.2, random_state=42)\n",
    "\n",
    "print(\"Training features shape:\", X_train.shape)\n",
    "print(\"Testing features shape:\", X_test.shape)\n",
    "print(\"Training labels shape:\", y_train.shape)\n",
    "print(\"Testing labels shape:\", y_test.shape)\n"
   ]
  }
 ],
 "metadata": {
  "kernelspec": {
   "display_name": ".venv",
   "language": "python",
   "name": "python3"
  },
  "language_info": {
   "codemirror_mode": {
    "name": "ipython",
    "version": 3
   },
   "file_extension": ".py",
   "mimetype": "text/x-python",
   "name": "python",
   "nbconvert_exporter": "python",
   "pygments_lexer": "ipython3",
   "version": "3.12.7"
  }
 },
 "nbformat": 4,
 "nbformat_minor": 2
}
