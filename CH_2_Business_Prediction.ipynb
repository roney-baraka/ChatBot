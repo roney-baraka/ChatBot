{
 "cells": [
  {
   "cell_type": "code",
   "execution_count": 1,
   "metadata": {},
   "outputs": [],
   "source": [
    "import pandas as pd \n",
    "import re \n",
    "from sklearn.preprocessing import StandardScaler\n",
    "import matplotlib.pyplot as plt \n",
    "import numpy as np \n",
    "import warnings \n",
    "from sklearn.metrics import mean_squared_error as mse \n",
    "from sklearn.model_selection import train_test_split, GridSearchCV\n",
    "from sklearn.ensemble import RandomForestRegressor, GradientBoostingRegressor\n",
    "from sklearn.linear_model import LinearRegression\n",
    "from sklearn.metrics import mean_absolute_error, mean_squared_error,r2_score\n",
    "\n",
    "\n",
    "warnings.simplefilter('ignore')"
   ]
  },
  {
   "cell_type": "code",
   "execution_count": 10,
   "metadata": {},
   "outputs": [],
   "source": [
    "import pandas as pd \n",
    "\n",
    "df=pd.read_excel('Coffee_shop_data.xlsx')\n",
    "population=pd.read_csv('population.csv', skiprows=[0])"
   ]
  },
  {
   "cell_type": "code",
   "execution_count": 12,
   "metadata": {},
   "outputs": [
    {
     "name": "stdout",
     "output_type": "stream",
     "text": [
      "   1          Brew Haven        8 Old Shore Place    Oakland  California  \\\n",
      "0  2          Bean Bliss  6650 Clarendon Crossing   Stockton  California   \n",
      "1  3       Caffeine Cove          7281 Buell Road     Fresno  California   \n",
      "2  4           Mug Magic       670 Jackson Avenue   Torrance  California   \n",
      "3  5         Daily Grind     37 Ludington Terrace  San Diego  California   \n",
      "4  6   Espresso Elegance         8427 Atwood Road    Visalia  California   \n",
      "\n",
      "   94616  415-810-4769  4.50    Male   $72,463   $3.31  \n",
      "0  95210  209-701-1665   5.0  Female   $87,117   $5.35  \n",
      "1  93773  559-137-3554   4.7    Male   $86,394   $4.15  \n",
      "2  90510  818-789-5573   4.3    Male   $88,343   $5.34  \n",
      "3  92196  619-354-2389   1.6    Male   $77,795   $4.51  \n",
      "4  93291  559-929-4731   1.2  Female   $78,753   $5.32  \n"
     ]
    }
   ],
   "source": [
    "population = pd.read_csv('population.csv' ,sep='\\t')\n",
    "print (population.head())"
   ]
  },
  {
   "cell_type": "code",
   "execution_count": 13,
   "metadata": {},
   "outputs": [
    {
     "data": {
      "text/html": [
       "<div>\n",
       "<style scoped>\n",
       "    .dataframe tbody tr th:only-of-type {\n",
       "        vertical-align: middle;\n",
       "    }\n",
       "\n",
       "    .dataframe tbody tr th {\n",
       "        vertical-align: top;\n",
       "    }\n",
       "\n",
       "    .dataframe thead th {\n",
       "        text-align: right;\n",
       "    }\n",
       "</style>\n",
       "<table border=\"1\" class=\"dataframe\">\n",
       "  <thead>\n",
       "    <tr style=\"text-align: right;\">\n",
       "      <th></th>\n",
       "      <th>ID no.</th>\n",
       "      <th>Business Name</th>\n",
       "      <th>Street address</th>\n",
       "      <th>City</th>\n",
       "      <th>State</th>\n",
       "      <th>Zip Code</th>\n",
       "      <th>Phone</th>\n",
       "      <th>Rating</th>\n",
       "      <th>Gender majority</th>\n",
       "      <th>Median Salary</th>\n",
       "      <th>Latte Price</th>\n",
       "    </tr>\n",
       "  </thead>\n",
       "  <tbody>\n",
       "    <tr>\n",
       "      <th>0</th>\n",
       "      <td>1</td>\n",
       "      <td>Brew Haven</td>\n",
       "      <td>8 Old Shore Place</td>\n",
       "      <td>Oakland</td>\n",
       "      <td>California</td>\n",
       "      <td>94616</td>\n",
       "      <td>415-810-4769</td>\n",
       "      <td>4.5</td>\n",
       "      <td>Male</td>\n",
       "      <td>72463</td>\n",
       "      <td>3.31000</td>\n",
       "    </tr>\n",
       "    <tr>\n",
       "      <th>1</th>\n",
       "      <td>2</td>\n",
       "      <td>Bean Bliss</td>\n",
       "      <td>6650 Clarendon Crossing</td>\n",
       "      <td>Stockton</td>\n",
       "      <td>California</td>\n",
       "      <td>95210</td>\n",
       "      <td>209-701-1665</td>\n",
       "      <td>5.0</td>\n",
       "      <td>Female</td>\n",
       "      <td>87117</td>\n",
       "      <td>5.35000</td>\n",
       "    </tr>\n",
       "    <tr>\n",
       "      <th>2</th>\n",
       "      <td>3</td>\n",
       "      <td>Caffeine Cove</td>\n",
       "      <td>7281 Buell Road</td>\n",
       "      <td>Fresno</td>\n",
       "      <td>California</td>\n",
       "      <td>93773</td>\n",
       "      <td>559-137-3554</td>\n",
       "      <td>4.7</td>\n",
       "      <td>Male</td>\n",
       "      <td>86394</td>\n",
       "      <td>4.15000</td>\n",
       "    </tr>\n",
       "    <tr>\n",
       "      <th>3</th>\n",
       "      <td>4</td>\n",
       "      <td>Mug Magic</td>\n",
       "      <td>670 Jackson Avenue</td>\n",
       "      <td>Torrance</td>\n",
       "      <td>California</td>\n",
       "      <td>90510</td>\n",
       "      <td>818-789-5573</td>\n",
       "      <td>4.3</td>\n",
       "      <td>Male</td>\n",
       "      <td>88343</td>\n",
       "      <td>5.34000</td>\n",
       "    </tr>\n",
       "    <tr>\n",
       "      <th>4</th>\n",
       "      <td>5</td>\n",
       "      <td>Daily Grind</td>\n",
       "      <td>37 Ludington Terrace</td>\n",
       "      <td>San Diego</td>\n",
       "      <td>California</td>\n",
       "      <td>92196</td>\n",
       "      <td>619-354-2389</td>\n",
       "      <td>1.6</td>\n",
       "      <td>Male</td>\n",
       "      <td>77795</td>\n",
       "      <td>4.51175</td>\n",
       "    </tr>\n",
       "  </tbody>\n",
       "</table>\n",
       "</div>"
      ],
      "text/plain": [
       "   ID no.   Business Name           Street address       City       State  \\\n",
       "0       1      Brew Haven        8 Old Shore Place    Oakland  California   \n",
       "1       2      Bean Bliss  6650 Clarendon Crossing   Stockton  California   \n",
       "2       3   Caffeine Cove          7281 Buell Road     Fresno  California   \n",
       "3       4       Mug Magic       670 Jackson Avenue   Torrance  California   \n",
       "4       5     Daily Grind     37 Ludington Terrace  San Diego  California   \n",
       "\n",
       "   Zip Code         Phone  Rating Gender majority  Median Salary  Latte Price  \n",
       "0     94616  415-810-4769     4.5            Male          72463      3.31000  \n",
       "1     95210  209-701-1665     5.0          Female          87117      5.35000  \n",
       "2     93773  559-137-3554     4.7            Male          86394      4.15000  \n",
       "3     90510  818-789-5573     4.3            Male          88343      5.34000  \n",
       "4     92196  619-354-2389     1.6            Male          77795      4.51175  "
      ]
     },
     "execution_count": 13,
     "metadata": {},
     "output_type": "execute_result"
    }
   ],
   "source": [
    "df.head()"
   ]
  },
  {
   "cell_type": "code",
   "execution_count": 14,
   "metadata": {},
   "outputs": [
    {
     "name": "stdout",
     "output_type": "stream",
     "text": [
      "<class 'pandas.core.frame.DataFrame'>\n",
      "RangeIndex: 1000 entries, 0 to 999\n",
      "Data columns (total 11 columns):\n",
      " #   Column           Non-Null Count  Dtype  \n",
      "---  ------           --------------  -----  \n",
      " 0   ID no.           1000 non-null   int64  \n",
      " 1   Business Name    1000 non-null   object \n",
      " 2   Street address   1000 non-null   object \n",
      " 3   City             1000 non-null   object \n",
      " 4   State            1000 non-null   object \n",
      " 5   Zip Code         1000 non-null   int64  \n",
      " 6   Phone            1000 non-null   object \n",
      " 7   Rating           1000 non-null   float64\n",
      " 8   Gender majority  1000 non-null   object \n",
      " 9   Median Salary    1000 non-null   int64  \n",
      " 10  Latte Price      1000 non-null   float64\n",
      "dtypes: float64(2), int64(3), object(6)\n",
      "memory usage: 86.1+ KB\n"
     ]
    }
   ],
   "source": [
    "df.info()"
   ]
  },
  {
   "cell_type": "code",
   "execution_count": 15,
   "metadata": {},
   "outputs": [
    {
     "data": {
      "text/plain": [
       "(1000, 11)"
      ]
     },
     "execution_count": 15,
     "metadata": {},
     "output_type": "execute_result"
    }
   ],
   "source": [
    "df.shape"
   ]
  },
  {
   "cell_type": "code",
   "execution_count": 16,
   "metadata": {},
   "outputs": [
    {
     "data": {
      "text/plain": [
       "(999, 11)"
      ]
     },
     "execution_count": 16,
     "metadata": {},
     "output_type": "execute_result"
    }
   ],
   "source": [
    "population.shape"
   ]
  },
  {
   "cell_type": "code",
   "execution_count": 17,
   "metadata": {},
   "outputs": [
    {
     "data": {
      "text/plain": [
       "<bound method NDFrame.describe of      ID no.        Business Name           Street address            City  \\\n",
       "0         1           Brew Haven        8 Old Shore Place         Oakland   \n",
       "1         2           Bean Bliss  6650 Clarendon Crossing        Stockton   \n",
       "2         3        Caffeine Cove          7281 Buell Road          Fresno   \n",
       "3         4            Mug Magic       670 Jackson Avenue        Torrance   \n",
       "4         5          Daily Grind     37 Ludington Terrace       San Diego   \n",
       "..      ...                  ...                      ...             ...   \n",
       "995     996        Sip & Stories       7 Mockingbird Park  San Bernardino   \n",
       "996     997        Perk Paradise            8 Cody Street         Burbank   \n",
       "997     998   Urban Brewtropolis        141 Burrows Place     Los Angeles   \n",
       "998     999       Steamy Moments  42004 Bellgrove Terrace          Orange   \n",
       "999    1000   Caffeine Communion       783 Gateway Center        Pasadena   \n",
       "\n",
       "          State  Zip Code         Phone  Rating Gender majority  \\\n",
       "0    California     94616  415-810-4769    4.50            Male   \n",
       "1    California     95210  209-701-1665    5.00          Female   \n",
       "2    California     93773  559-137-3554    4.70            Male   \n",
       "3    California     90510  818-789-5573    4.30            Male   \n",
       "4    California     92196  619-354-2389    1.60            Male   \n",
       "..          ...       ...           ...     ...             ...   \n",
       "995  California     92424  909-425-9949    1.78            Male   \n",
       "996  California     91520  818-845-1356    4.50            Male   \n",
       "997  California     90035  323-785-4094    3.00            Male   \n",
       "998  California     92867  714-506-9394    4.50            Male   \n",
       "999  California     91131  626-443-4268    4.19          Female   \n",
       "\n",
       "     Median Salary  Latte Price  \n",
       "0            72463      3.31000  \n",
       "1            87117      5.35000  \n",
       "2            86394      4.15000  \n",
       "3            88343      5.34000  \n",
       "4            77795      4.51175  \n",
       "..             ...          ...  \n",
       "995          82834      6.48000  \n",
       "996          80753      3.65000  \n",
       "997          87604      4.64000  \n",
       "998          74340      3.82000  \n",
       "999          81178      3.09000  \n",
       "\n",
       "[1000 rows x 11 columns]>"
      ]
     },
     "execution_count": 17,
     "metadata": {},
     "output_type": "execute_result"
    }
   ],
   "source": [
    "df.describe"
   ]
  },
  {
   "cell_type": "code",
   "execution_count": 19,
   "metadata": {},
   "outputs": [
    {
     "data": {
      "image/png": "[encoded data removed]",
      "text/plain": [
       "<Figure size 640x480 with 1 Axes>"
      ]
     },
     "metadata": {},
     "output_type": "display_data"
    }
   ],
   "source": [
    "import matplotlib.pyplot as plt \n",
    "ax=df['City'].value_counts().head(5).plot(kind='bar')\n",
    "ax.set_title('Top 5 cities with most coffee shops')\n",
    "plt.show()"
   ]
  },
  {
   "cell_type": "code",
   "execution_count": 21,
   "metadata": {},
   "outputs": [
    {
     "data": {
      "image/png": "[encoded data removed]",
      "text/plain": [
       "<Figure size 640x480 with 1 Axes>"
      ]
     },
     "metadata": {},
     "output_type": "display_data"
    }
   ],
   "source": [
    "import matplotlib.pyplot as plt \n",
    "ax=df['Business Name'].value_counts().head(10).plot(kind ='bar')\n",
    "ax.set_title('Top 10 most famous brands')\n",
    "plt.show()"
   ]
  },
  {
   "cell_type": "code",
   "execution_count": 22,
   "metadata": {},
   "outputs": [
    {
     "data": {
      "text/plain": [
       "ID no.             0\n",
       "Business Name      0\n",
       "Street address     0\n",
       "City               0\n",
       "State              0\n",
       "Zip Code           0\n",
       "Phone              0\n",
       "Rating             0\n",
       "Gender majority    0\n",
       "Median Salary      0\n",
       "Latte Price        0\n",
       "dtype: int64"
      ]
     },
     "execution_count": 22,
     "metadata": {},
     "output_type": "execute_result"
    }
   ],
   "source": [
    "df.isna().sum()"
   ]
  }
 ],
 "metadata": {
  "kernelspec": {
   "display_name": ".venv",
   "language": "python",
   "name": "python3"
  },
  "language_info": {
   "codemirror_mode": {
    "name": "ipython",
    "version": 3
   },
   "file_extension": ".py",
   "mimetype": "text/x-python",
   "name": "python",
   "nbconvert_exporter": "python",
   "pygments_lexer": "ipython3",
   "version": "3.12.7"
  }
 },
 "nbformat": 4,
 "nbformat_minor": 2
}
